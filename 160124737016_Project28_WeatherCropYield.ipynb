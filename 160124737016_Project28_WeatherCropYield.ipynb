{
 "cells": [
  {
   "cell_type": "markdown",
   "id": "6b3b700d-b495-45de-bcc7-ad808056458d",
   "metadata": {},
   "source": [
    "Title: Study relationship between weather parameters and crop yields across regions.\n",
    "ProjectID: CBIT/IT-1/EDAV/2025/CEP-28\n",
    "Roll No:160124737016\n",
    "Mittakola Vamshika,Dept of IT,Chaitanya Bharathi Institute of Technology,Hyderabad."
   ]
  },
  {
   "cell_type": "markdown",
   "id": "225f160e-7c95-45a2-b34d-7f85e8a0dcef",
   "metadata": {},
   "source": [
    "Problem Overview:The objective of this project is to analyze how weather parameters such as temperature, rainfall, and humidity influence crop yield across different regions and seasons in India.\n",
    "\n",
    "Dataset Link:https://drive.google.com/file/d/1cyMD8fTCZZ_Ty3CZZ3acNly55OBbOKrr/view?usp=sharing"
   ]
  },
  {
   "cell_type": "markdown",
   "id": "d8902a31-c4f1-4dd4-aea5-b00d2661d0bd",
   "metadata": {},
   "source": [
    "Environment:\n",
    "Python Version:3.13.5\n",
    "Libraries to be used:\n",
    "    numpy\n",
    "    pandas"
   ]
  },
  {
   "cell_type": "code",
   "execution_count": 7,
   "id": "85a7d4d6-20ca-495f-bffe-8efbcb4de293",
   "metadata": {},
   "outputs": [],
   "source": [
    "import numpy as np\n",
    "import pandas as pd"
   ]
  },
  {
   "cell_type": "code",
   "execution_count": 8,
   "id": "39a23995-e99c-4ec6-b4b3-e07b90d5f85e",
   "metadata": {},
   "outputs": [
    {
     "data": {
      "text/html": [
       "<div>\n",
       "<style scoped>\n",
       "    .dataframe tbody tr th:only-of-type {\n",
       "        vertical-align: middle;\n",
       "    }\n",
       "\n",
       "    .dataframe tbody tr th {\n",
       "        vertical-align: top;\n",
       "    }\n",
       "\n",
       "    .dataframe thead th {\n",
       "        text-align: right;\n",
       "    }\n",
       "</style>\n",
       "<table border=\"1\" class=\"dataframe\">\n",
       "  <thead>\n",
       "    <tr style=\"text-align: right;\">\n",
       "      <th></th>\n",
       "      <th>Region</th>\n",
       "      <th>District</th>\n",
       "      <th>Crop</th>\n",
       "      <th>Season</th>\n",
       "      <th>Area_Hectares</th>\n",
       "      <th>Temperature_C</th>\n",
       "      <th>Rainfall_mm</th>\n",
       "      <th>Humidity_%</th>\n",
       "      <th>Yield_TonnesPerHectare</th>\n",
       "      <th>Year</th>\n",
       "    </tr>\n",
       "  </thead>\n",
       "  <tbody>\n",
       "    <tr>\n",
       "      <th>0</th>\n",
       "      <td>North</td>\n",
       "      <td>Kanpur</td>\n",
       "      <td>Wheat</td>\n",
       "      <td>Rabi</td>\n",
       "      <td>166</td>\n",
       "      <td>NaN</td>\n",
       "      <td>833.0</td>\n",
       "      <td>63.8</td>\n",
       "      <td>4.18</td>\n",
       "      <td>2022</td>\n",
       "    </tr>\n",
       "    <tr>\n",
       "      <th>1</th>\n",
       "      <td>Central</td>\n",
       "      <td>Nagpur</td>\n",
       "      <td>Soybean</td>\n",
       "      <td>Rabi</td>\n",
       "      <td>244</td>\n",
       "      <td>24.3</td>\n",
       "      <td>658.0</td>\n",
       "      <td>83.0</td>\n",
       "      <td>4.67</td>\n",
       "      <td>2023</td>\n",
       "    </tr>\n",
       "    <tr>\n",
       "      <th>2</th>\n",
       "      <td>East</td>\n",
       "      <td>Kolkata</td>\n",
       "      <td>Soybean</td>\n",
       "      <td>Kharif</td>\n",
       "      <td>201</td>\n",
       "      <td>22.4</td>\n",
       "      <td>981.3</td>\n",
       "      <td>75.1</td>\n",
       "      <td>2.61</td>\n",
       "      <td>2022</td>\n",
       "    </tr>\n",
       "    <tr>\n",
       "      <th>3</th>\n",
       "      <td>West</td>\n",
       "      <td>Mumbai</td>\n",
       "      <td>Maize</td>\n",
       "      <td>Kharif</td>\n",
       "      <td>268</td>\n",
       "      <td>23.2</td>\n",
       "      <td>617.4</td>\n",
       "      <td>69.2</td>\n",
       "      <td>2.57</td>\n",
       "      <td>2022</td>\n",
       "    </tr>\n",
       "    <tr>\n",
       "      <th>4</th>\n",
       "      <td>South</td>\n",
       "      <td>Khammam</td>\n",
       "      <td>Wheat</td>\n",
       "      <td>Rabi</td>\n",
       "      <td>243</td>\n",
       "      <td>26.3</td>\n",
       "      <td>273.8</td>\n",
       "      <td>70.7</td>\n",
       "      <td>3.54</td>\n",
       "      <td>2023</td>\n",
       "    </tr>\n",
       "  </tbody>\n",
       "</table>\n",
       "</div>"
      ],
      "text/plain": [
       "    Region District     Crop  Season  Area_Hectares  Temperature_C  \\\n",
       "0    North   Kanpur    Wheat    Rabi            166            NaN   \n",
       "1  Central   Nagpur  Soybean    Rabi            244           24.3   \n",
       "2     East  Kolkata  Soybean  Kharif            201           22.4   \n",
       "3     West   Mumbai    Maize  Kharif            268           23.2   \n",
       "4    South  Khammam    Wheat    Rabi            243           26.3   \n",
       "\n",
       "   Rainfall_mm  Humidity_%  Yield_TonnesPerHectare  Year  \n",
       "0        833.0        63.8                    4.18  2022  \n",
       "1        658.0        83.0                    4.67  2023  \n",
       "2        981.3        75.1                    2.61  2022  \n",
       "3        617.4        69.2                    2.57  2022  \n",
       "4        273.8        70.7                    3.54  2023  "
      ]
     },
     "execution_count": 8,
     "metadata": {},
     "output_type": "execute_result"
    }
   ],
   "source": [
    "df=pd.read_csv(\"C:\\\\Users\\\\vamsh\\\\Downloads\\\\weather_crop_data.csv\")\n",
    "df.head()"
   ]
  },
  {
   "cell_type": "markdown",
   "id": "181a6f74-6591-4971-aa1b-9aec28c185f6",
   "metadata": {},
   "source": [
    "Q1 Compute average temperature and rainfall(BL-3)"
   ]
  },
  {
   "cell_type": "code",
   "execution_count": 21,
   "id": "12779128-c2e5-4d13-9ab4-3e97014702aa",
   "metadata": {},
   "outputs": [
    {
     "name": "stdout",
     "output_type": "stream",
     "text": [
      "Average temperature : 26.614444444444448\n",
      "Average rainfall:  594.8159574468085\n"
     ]
    }
   ],
   "source": [
    "avgTemperature=df['Temperature_C'].mean()\n",
    "avgRainfall=df['Rainfall_mm'].mean()\n",
    "print(\"Average temperature :\",avgTemperature)\n",
    "print(\"Average rainfall: \",avgRainfall)"
   ]
  },
  {
   "cell_type": "markdown",
   "id": "ee743e65-7f14-4194-9ffa-81132814985b",
   "metadata": {},
   "source": [
    "Q2 Filter by region and season(BL-3)"
   ]
  },
  {
   "cell_type": "code",
   "execution_count": 22,
   "id": "b7810d0f-0da5-4bf2-a474-58d3dfbc7530",
   "metadata": {},
   "outputs": [
    {
     "name": "stdout",
     "output_type": "stream",
     "text": [
      "Kharif season in South    Region    District     Crop  Season  Area_Hectares  Temperature_C  \\\n",
      "16  South     Khammam   Cotton  Kharif            214           29.2   \n",
      "25  South     Khammam    Maize  Kharif            260           22.6   \n",
      "46  South     Madurai    Wheat  Kharif            199           22.8   \n",
      "51  South      Mysuru  Soybean  Kharif            280           24.0   \n",
      "59  South  Coimbatore    Maize  Kharif            275           27.7   \n",
      "66  South     Madurai  Soybean  Kharif            210           29.8   \n",
      "86  South      Mysuru    Wheat  Kharif            159           26.5   \n",
      "\n",
      "    Rainfall_mm  Humidity_%  Yield_TonnesPerHectare  Year  \n",
      "16        951.7        72.9                    3.08  2023  \n",
      "25        281.2        81.0                    4.06  2020  \n",
      "46        585.8        79.2                    4.70  2020  \n",
      "51        611.4        81.7                    4.75  2021  \n",
      "59        308.6        72.7                    3.08  2022  \n",
      "66        896.9        79.0                    4.79  2023  \n",
      "86        612.5        82.8                    3.32  2023  \n",
      "Rabi season in South    Region    District     Crop Season  Area_Hectares  Temperature_C  \\\n",
      "4   South     Khammam    Wheat   Rabi            243           26.3   \n",
      "6   South  Coimbatore  Soybean   Rabi            284           25.9   \n",
      "20  South     Khammam  Soybean   Rabi            164           27.0   \n",
      "34  South     Khammam    Wheat   Rabi            208           21.7   \n",
      "37  South      Mysuru  Soybean   Rabi            165           25.2   \n",
      "41  South     Khammam   Cotton   Rabi            279           20.4   \n",
      "55  South      Mysuru   Cotton   Rabi            239           24.4   \n",
      "60  South     Madurai     Rice   Rabi            283           23.0   \n",
      "68  South     Madurai   Cotton   Rabi            232           30.9   \n",
      "78  South      Mysuru   Cotton   Rabi            191           23.3   \n",
      "83  South      Mysuru   Cotton   Rabi            260            NaN   \n",
      "92  South     Chennai     Rice   Rabi            233           28.2   \n",
      "95  South     Madurai  Soybean   Rabi            220           32.2   \n",
      "\n",
      "    Rainfall_mm  Humidity_%  Yield_TonnesPerHectare  Year  \n",
      "4         273.8        70.7                    3.54  2023  \n",
      "6         341.1        64.0                    3.35  2020  \n",
      "20        800.9        75.7                    3.03  2023  \n",
      "34        410.3        66.2                    3.20  2022  \n",
      "37        637.4        70.5                    4.54  2020  \n",
      "41        843.5        82.0                    4.35  2020  \n",
      "55        616.0        62.1                    4.35  2020  \n",
      "60        438.4        80.7                    3.25  2024  \n",
      "68        270.5        76.5                    3.22  2022  \n",
      "78        602.6        60.8                    2.62  2022  \n",
      "83          NaN        68.6                    3.38  2022  \n",
      "92        276.8        80.7                    3.25  2024  \n",
      "95        710.5        68.8                    3.03  2020  \n",
      "Kharif season in North    Region  District     Crop  Season  Area_Hectares  Temperature_C  \\\n",
      "7   North    Kanpur     Rice  Kharif            223           20.9   \n",
      "13  North  Amritsar  Soybean  Kharif            156           31.1   \n",
      "14  North    Kanpur    Maize  Kharif            250           26.4   \n",
      "26  North  Amritsar  Soybean  Kharif            272           24.6   \n",
      "57  North     Delhi    Wheat  Kharif            239           22.7   \n",
      "58  North    Kanpur     Rice  Kharif            162           24.2   \n",
      "74  North    Kanpur    Maize  Kharif            293           22.9   \n",
      "75  North    Kanpur     Rice  Kharif            269           25.8   \n",
      "84  North   Lucknow   Cotton  Kharif            184           20.0   \n",
      "\n",
      "    Rainfall_mm  Humidity_%  Yield_TonnesPerHectare  Year  \n",
      "7         846.3        74.5                    2.77  2022  \n",
      "13        973.8        80.0                    3.50  2023  \n",
      "14        311.8        70.8                    2.96  2020  \n",
      "26        947.4        78.1                    3.14  2024  \n",
      "57        708.7        70.0                    3.51  2020  \n",
      "58        866.6        75.6                    3.47  2021  \n",
      "74        560.6        73.1                    4.56  2024  \n",
      "75        716.5        66.7                    3.98  2020  \n",
      "84        987.1        72.5                    2.65  2023  \n",
      "Rabi season in North    Region  District    Crop Season  Area_Hectares  Temperature_C  Rainfall_mm  \\\n",
      "0   North    Kanpur   Wheat   Rabi            166            NaN        833.0   \n",
      "24  North     Delhi   Wheat   Rabi            251           30.4        261.7   \n",
      "29  North    Kanpur    Rice   Rabi            250           22.9        430.4   \n",
      "33  North    Kanpur   Wheat   Rabi            150           22.1        467.9   \n",
      "44  North    Kanpur  Cotton   Rabi            163            NaN          NaN   \n",
      "62  North    Kanpur    Rice   Rabi            177           32.3        638.1   \n",
      "63  North  Amritsar   Wheat   Rabi            240           29.6        636.0   \n",
      "70  North   Lucknow   Wheat   Rabi            188            NaN          NaN   \n",
      "71  North     Delhi  Cotton   Rabi            252           21.2        704.7   \n",
      "82  North  Ludhiana   Wheat   Rabi            219           25.4        863.9   \n",
      "\n",
      "    Humidity_%  Yield_TonnesPerHectare  Year  \n",
      "0         63.8                    4.18  2022  \n",
      "24        60.2                    4.77  2020  \n",
      "29        82.6                    4.13  2022  \n",
      "33        82.8                    2.72  2024  \n",
      "44        73.8                    2.57  2022  \n",
      "62        78.1                    4.15  2023  \n",
      "63        66.6                    3.31  2022  \n",
      "70        78.6                    2.72  2021  \n",
      "71        60.7                    4.46  2024  \n",
      "82        61.9                    3.93  2024  \n",
      "Kharif season in East    Region     District     Crop  Season  Area_Hectares  Temperature_C  \\\n",
      "2    East      Kolkata  Soybean  Kharif            201           22.4   \n",
      "10   East  Bhubaneswar    Maize  Kharif            234            NaN   \n",
      "12   East      Kolkata    Wheat  Kharif            260           25.7   \n",
      "15   East       Ranchi    Wheat  Kharif            162           32.3   \n",
      "19   East       Ranchi     Rice  Kharif            201           31.0   \n",
      "27   East  Bhubaneswar    Wheat  Kharif            264           30.2   \n",
      "28   East     Guwahati  Soybean  Kharif            179           27.8   \n",
      "32   East      Kolkata  Soybean  Kharif            222           20.0   \n",
      "52   East  Bhubaneswar     Rice  Kharif            255           32.2   \n",
      "53   East       Ranchi     Rice  Kharif            252            NaN   \n",
      "54   East  Bhubaneswar    Wheat  Kharif            282           30.9   \n",
      "72   East      Kolkata     Rice  Kharif            202           25.2   \n",
      "85   East        Patna    Maize  Kharif            298           32.0   \n",
      "94   East     Guwahati    Maize  Kharif            252           30.3   \n",
      "96   East      Kolkata   Cotton  Kharif            278           25.2   \n",
      "99   East        Patna  Soybean  Kharif            268           24.3   \n",
      "\n",
      "    Rainfall_mm  Humidity_%  Yield_TonnesPerHectare  Year  \n",
      "2         981.3        75.1                    2.61  2022  \n",
      "10        642.9        60.3                    3.70  2020  \n",
      "12        326.2        68.7                    4.05  2020  \n",
      "15        364.0        63.5                    2.75  2020  \n",
      "19        382.7        73.0                    2.64  2022  \n",
      "27        834.9        72.9                    3.84  2023  \n",
      "28        320.1        73.1                    2.51  2022  \n",
      "32        346.7        84.8                    3.32  2023  \n",
      "52        476.4        82.0                    2.72  2020  \n",
      "53          NaN        81.8                    3.34  2021  \n",
      "54        615.7        65.4                    4.79  2024  \n",
      "72        876.0        75.9                    2.52  2022  \n",
      "85        251.1        70.1                    4.16  2021  \n",
      "94        794.4        68.1                    4.00  2020  \n",
      "96        669.2        75.0                    3.05  2023  \n",
      "99        343.7        68.7                    3.85  2022  \n",
      "Rabi season in East    Region     District     Crop Season  Area_Hectares  Temperature_C  \\\n",
      "5    East       Ranchi    Wheat   Rabi            206           31.0   \n",
      "11   East        Patna  Soybean   Rabi            205           23.8   \n",
      "22   East     Guwahati    Wheat   Rabi            287            NaN   \n",
      "35   East  Bhubaneswar  Soybean   Rabi            262           21.2   \n",
      "42   East  Bhubaneswar   Cotton   Rabi            289           22.5   \n",
      "61   East      Kolkata    Maize   Rabi            225           26.2   \n",
      "80   East     Guwahati    Wheat   Rabi            242            NaN   \n",
      "\n",
      "    Rainfall_mm  Humidity_%  Yield_TonnesPerHectare  Year  \n",
      "5         513.6        61.6                    3.46  2021  \n",
      "11        373.1        80.2                    2.68  2023  \n",
      "22        279.1        66.7                    4.41  2024  \n",
      "35        839.8        81.7                    2.57  2024  \n",
      "42        641.4        73.5                    3.80  2021  \n",
      "61        540.5        69.8                    4.07  2020  \n",
      "80        804.1        77.1                    2.87  2023  \n",
      "Kharif season in West    Region   District     Crop  Season  Area_Hectares  Temperature_C  \\\n",
      "3    West     Mumbai    Maize  Kharif            268           23.2   \n",
      "8    West      Surat    Maize  Kharif            184           27.5   \n",
      "45   West  Ahmedabad  Soybean  Kharif            169            NaN   \n",
      "48   West       Pune    Maize  Kharif            201           25.4   \n",
      "50   West     Mumbai    Maize  Kharif            228           22.8   \n",
      "64   West      Surat  Soybean  Kharif            300           31.5   \n",
      "76   West  Ahmedabad     Rice  Kharif            290           29.6   \n",
      "89   West  Ahmedabad    Wheat  Kharif            198           29.2   \n",
      "97   West     Mumbai     Rice  Kharif            182           28.4   \n",
      "98   West     Mumbai    Wheat  Kharif            230           27.4   \n",
      "\n",
      "    Rainfall_mm  Humidity_%  Yield_TonnesPerHectare  Year  \n",
      "3         617.4        69.2                    2.57  2022  \n",
      "8         267.2        62.7                    2.58  2023  \n",
      "45          NaN        79.9                    3.52  2024  \n",
      "48        824.9        68.4                    3.63  2024  \n",
      "50        758.6        80.7                    4.72  2024  \n",
      "64        493.3        61.9                    3.08  2022  \n",
      "76        688.1        68.3                    2.73  2020  \n",
      "89        707.6        75.7                    3.71  2021  \n",
      "97        442.1        84.9                    2.65  2022  \n",
      "98        537.3        83.8                    4.05  2023  \n",
      "Rabi season in West    Region   District     Crop Season  Area_Hectares  Temperature_C  \\\n",
      "31   West      Surat     Rice   Rabi            277           29.1   \n",
      "40   West      Surat    Maize   Rabi            212           20.8   \n",
      "47   West       Pune   Cotton   Rabi            181           31.7   \n",
      "65   West     Rajkot     Rice   Rabi            291           24.6   \n",
      "69   West  Ahmedabad    Maize   Rabi            246           30.9   \n",
      "79   West     Rajkot  Soybean   Rabi            267           31.3   \n",
      "81   West       Pune     Rice   Rabi            226           32.2   \n",
      "87   West  Ahmedabad  Soybean   Rabi            234           23.0   \n",
      "90   West       Pune  Soybean   Rabi            206           31.2   \n",
      "93   West       Pune    Wheat   Rabi            263           24.4   \n",
      "\n",
      "    Rainfall_mm  Humidity_%  Yield_TonnesPerHectare  Year  \n",
      "31        272.0        61.6                    4.70  2020  \n",
      "40        987.8        67.6                    2.69  2023  \n",
      "47        841.6        81.3                    3.06  2020  \n",
      "65        965.3        78.3                    4.07  2024  \n",
      "69        526.9        78.7                    4.41  2024  \n",
      "79        636.2        67.3                    3.36  2022  \n",
      "81        726.9        78.0                    3.83  2023  \n",
      "87        265.3        66.0                    2.88  2020  \n",
      "90        860.8        63.3                    4.30  2024  \n",
      "93        864.7        69.0                    3.52  2024  \n",
      "Kharif season in Central      Region  District    Crop  Season  Area_Hectares  Temperature_C  \\\n",
      "17  Central    Bhopal   Maize  Kharif            244           22.7   \n",
      "18  Central    Nagpur   Maize  Kharif            231           27.9   \n",
      "38  Central    Bhopal  Cotton  Kharif            227           24.3   \n",
      "43  Central  Jabalpur   Maize  Kharif            212           32.4   \n",
      "73  Central    Indore   Maize  Kharif            246           28.5   \n",
      "91  Central    Indore   Maize  Kharif            261           21.7   \n",
      "\n",
      "    Rainfall_mm  Humidity_%  Yield_TonnesPerHectare  Year  \n",
      "17        650.5        63.7                    3.12  2022  \n",
      "18        578.1        69.4                    4.40  2023  \n",
      "38        978.0        61.6                    3.87  2024  \n",
      "43        257.6        68.3                    4.50  2024  \n",
      "73        936.8        61.1                    3.26  2022  \n",
      "91        286.3        82.7                    3.34  2024  \n",
      "Rabi season in Central      Region  District     Crop Season  Area_Hectares  Temperature_C  \\\n",
      "1   Central    Nagpur  Soybean   Rabi            244           24.3   \n",
      "9   Central  Jabalpur    Maize   Rabi            254           20.5   \n",
      "21  Central    Raipur  Soybean   Rabi            152           32.1   \n",
      "23  Central    Nagpur    Maize   Rabi            225           32.3   \n",
      "30  Central    Bhopal     Rice   Rabi            211           29.8   \n",
      "36  Central    Nagpur  Soybean   Rabi            238           27.7   \n",
      "39  Central    Nagpur    Maize   Rabi            224            NaN   \n",
      "49  Central    Raipur    Maize   Rabi            207           30.2   \n",
      "56  Central  Jabalpur     Rice   Rabi            179           31.1   \n",
      "67  Central    Bhopal  Soybean   Rabi            216           31.2   \n",
      "77  Central  Jabalpur  Soybean   Rabi            228           24.9   \n",
      "88  Central  Jabalpur   Cotton   Rabi            299           21.7   \n",
      "\n",
      "    Rainfall_mm  Humidity_%  Yield_TonnesPerHectare  Year  \n",
      "1         658.0        83.0                    4.67  2023  \n",
      "9         437.9        78.5                    3.63  2020  \n",
      "21        633.7        78.0                    4.67  2021  \n",
      "23        556.4        71.1                    4.56  2022  \n",
      "30        278.4        72.1                    3.40  2020  \n",
      "36        568.8        75.0                    4.68  2020  \n",
      "39          NaN        74.3                    4.55  2023  \n",
      "49        362.2        62.3                    4.55  2021  \n",
      "56        492.0        75.8                    2.86  2021  \n",
      "67        723.2        66.7                    3.07  2022  \n",
      "77        310.7        67.5                    3.68  2022  \n",
      "88        478.8        67.1                    2.67  2020  \n"
     ]
    }
   ],
   "source": [
    "south_kharif=df[(df['Region']=='South') & (df['Season']=='Kharif')]\n",
    "south_rabi=df[(df['Region']=='South') & (df['Season']=='Rabi')]\n",
    "\n",
    "north_kharif=df[(df['Region']=='North') & (df['Season']=='Kharif')]\n",
    "north_rabi=df[(df['Region']=='North') & (df['Season']=='Rabi')]\n",
    "\n",
    "east_kharif=df[(df['Region']=='East') & (df['Season']=='Kharif')]\n",
    "east_rabi=df[(df['Region']=='East') & (df['Season']=='Rabi')]\n",
    "\n",
    "west_kharif=df[(df['Region']=='West') & (df['Season']=='Kharif')]\n",
    "west_rabi=df[(df['Region']=='West') & (df['Season']=='Rabi')]\n",
    "\n",
    "central_kharif=df[(df['Region']=='Central') & (df['Season']=='Kharif')]\n",
    "central_rabi=df[(df['Region']=='Central') & (df['Season']=='Rabi')]\n",
    "\n",
    "print(\"Kharif season in South\",south_kharif)\n",
    "print(\"Rabi season in South\",south_rabi)\n",
    "print(\"Kharif season in North\",north_kharif)\n",
    "print(\"Rabi season in North\",north_rabi)\n",
    "print(\"Kharif season in East\",east_kharif)\n",
    "print(\"Rabi season in East\",east_rabi)\n",
    "print(\"Kharif season in West\",west_kharif)\n",
    "print(\"Rabi season in West\",west_rabi)\n",
    "print(\"Kharif season in Central\",central_kharif)\n",
    "print(\"Rabi season in Central\",central_rabi)"
   ]
  },
  {
   "cell_type": "markdown",
   "id": "a7147780-fd5b-42e4-88eb-a70bd24e4091",
   "metadata": {},
   "source": [
    "Q3 Impute missing weather readings(BL-4)"
   ]
  },
  {
   "cell_type": "code",
   "execution_count": 23,
   "id": "cfec4ba6-db2e-4af6-81fe-17221e89b9fe",
   "metadata": {},
   "outputs": [
    {
     "name": "stdout",
     "output_type": "stream",
     "text": [
      "     Region District     Crop  Season  Area_Hectares  Temperature_C  \\\n",
      "0     North   Kanpur    Wheat    Rabi            166            NaN   \n",
      "1   Central   Nagpur  Soybean    Rabi            244           24.3   \n",
      "2      East  Kolkata  Soybean  Kharif            201           22.4   \n",
      "3      West   Mumbai    Maize  Kharif            268           23.2   \n",
      "4     South  Khammam    Wheat    Rabi            243           26.3   \n",
      "..      ...      ...      ...     ...            ...            ...   \n",
      "95    South  Madurai  Soybean    Rabi            220           32.2   \n",
      "96     East  Kolkata   Cotton  Kharif            278           25.2   \n",
      "97     West   Mumbai     Rice  Kharif            182           28.4   \n",
      "98     West   Mumbai    Wheat  Kharif            230           27.4   \n",
      "99     East    Patna  Soybean  Kharif            268           24.3   \n",
      "\n",
      "    Rainfall_mm  Humidity_%  Yield_TonnesPerHectare  Year  \n",
      "0         833.0        63.8                    4.18  2022  \n",
      "1         658.0        83.0                    4.67  2023  \n",
      "2         981.3        75.1                    2.61  2022  \n",
      "3         617.4        69.2                    2.57  2022  \n",
      "4         273.8        70.7                    3.54  2023  \n",
      "..          ...         ...                     ...   ...  \n",
      "95        710.5        68.8                    3.03  2020  \n",
      "96        669.2        75.0                    3.05  2023  \n",
      "97        442.1        84.9                    2.65  2022  \n",
      "98        537.3        83.8                    4.05  2023  \n",
      "99        343.7        68.7                    3.85  2022  \n",
      "\n",
      "[100 rows x 10 columns]\n"
     ]
    }
   ],
   "source": [
    "df['Temperature_C'].fillna(df['Temperature_C'].mean())\n",
    "df['Rainfall_mm'].fillna(df['Rainfall_mm'].mean())\n",
    "print(df)"
   ]
  },
  {
   "cell_type": "markdown",
   "id": "1e3405ce-9f50-4c5a-8fe6-fe4a0cf6df56",
   "metadata": {},
   "source": [
    "Q4 Group data by crop season and area(BL-4)"
   ]
  },
  {
   "cell_type": "code",
   "execution_count": 24,
   "id": "89aea22f-547b-4b58-b987-146c9e2da212",
   "metadata": {},
   "outputs": [
    {
     "name": "stdout",
     "output_type": "stream",
     "text": [
      "   Season   Region District     Crop  Area_Hectares  Temperature_C  \\\n",
      "0  Kharif  Central   Bhopal    Maize            244           22.7   \n",
      "1  Kharif     East  Kolkata  Soybean            201           22.4   \n",
      "2  Kharif    North   Kanpur     Rice            223           20.9   \n",
      "3  Kharif    South  Khammam   Cotton            214           29.2   \n",
      "4  Kharif     West   Mumbai    Maize            268           23.2   \n",
      "5    Rabi  Central   Nagpur  Soybean            244           24.3   \n",
      "6    Rabi     East   Ranchi    Wheat            206           31.0   \n",
      "7    Rabi    North   Kanpur    Wheat            166           30.4   \n",
      "8    Rabi    South  Khammam    Wheat            243           26.3   \n",
      "9    Rabi     West    Surat     Rice            277           29.1   \n",
      "\n",
      "   Rainfall_mm  Humidity_%  Yield_TonnesPerHectare  Year  \n",
      "0        650.5        63.7                    3.12  2022  \n",
      "1        981.3        75.1                    2.61  2022  \n",
      "2        846.3        74.5                    2.77  2022  \n",
      "3        951.7        72.9                    3.08  2023  \n",
      "4        617.4        69.2                    2.57  2022  \n",
      "5        658.0        83.0                    4.67  2023  \n",
      "6        513.6        61.6                    3.46  2021  \n",
      "7        833.0        63.8                    4.18  2022  \n",
      "8        273.8        70.7                    3.54  2023  \n",
      "9        272.0        61.6                    4.70  2020  \n"
     ]
    }
   ],
   "source": [
    "grouped_data=df.groupby(['Season','Region']).first().reset_index()\n",
    "print(grouped_data)"
   ]
  },
  {
   "cell_type": "markdown",
   "id": "d380380a-87e9-4520-bf5c-e8308ce5e52f",
   "metadata": {},
   "source": [
    "Q5 Visualize weather impact on yeild (BL-5)"
   ]
  },
  {
   "cell_type": "code",
   "execution_count": 16,
   "id": "2a5468b7-5380-45e0-b9c6-8a3038449cfe",
   "metadata": {},
   "outputs": [],
   "source": [
    "import matplotlib.pyplot as plt"
   ]
  },
  {
   "cell_type": "code",
   "execution_count": 9,
   "id": "2452b2ad-6679-46f6-95fd-fa2e863948cd",
   "metadata": {},
   "outputs": [
    {
     "data": {
      "image/png": "[encoded data removed]",
      "text/plain": [
       "<Figure size 640x480 with 1 Axes>"
      ]
     },
     "metadata": {},
     "output_type": "display_data"
    }
   ],
   "source": [
    "#plot temperature vs yeild\n",
    "plt.scatter(df['Temperature_C'],df['Yield_TonnesPerHectare'])\n",
    "plt.xlabel('Temperature')\n",
    "plt.ylabel('Yeild')\n",
    "plt.title('Temperature vs Yeild')\n",
    "plt.show()"
   ]
  },
  {
   "cell_type": "code",
   "execution_count": 12,
   "id": "fc698a9b-381e-488f-a37d-7c23f45ff04e",
   "metadata": {},
   "outputs": [
    {
     "data": {
      "image/png": "[encoded data removed]",
      "text/plain": [
       "<Figure size 640x480 with 1 Axes>"
      ]
     },
     "metadata": {},
     "output_type": "display_data"
    }
   ],
   "source": [
    "#Rainfall vs yeild\n",
    "plt.scatter(df['Rainfall_mm'],df['Yield_TonnesPerHectare'])\n",
    "plt.xlabel('Rainfall')\n",
    "plt.ylabel('Yeild')\n",
    "plt.title('Rainfall vs Yeild')\n",
    "plt.show()"
   ]
  },
  {
   "cell_type": "code",
   "execution_count": 13,
   "id": "d03ea395-73fb-4cce-b78b-e0a29470a0e1",
   "metadata": {},
   "outputs": [
    {
     "data": {
      "image/png": "[encoded data removed]",
      "text/plain": [
       "<Figure size 640x480 with 1 Axes>"
      ]
     },
     "metadata": {},
     "output_type": "display_data"
    }
   ],
   "source": [
    "#humidity vs yeild \n",
    "plt.scatter(df['Humidity_%'],df['Yield_TonnesPerHectare'])\n",
    "plt.xlabel('Humidity')\n",
    "plt.ylabel('Yeild')\n",
    "plt.title('Humidity vs Yeild')\n",
    "plt.show()"
   ]
  },
  {
   "cell_type": "code",
   "execution_count": 14,
   "id": "0311e7af-0cac-478b-a15f-db987a26b2fd",
   "metadata": {},
   "outputs": [
    {
     "name": "stdout",
     "output_type": "stream",
     "text": [
      "                        Temperature_C  Rainfall_mm  Humidity_%  \\\n",
      "Temperature_C                1.000000    -0.125626   -0.170105   \n",
      "Rainfall_mm                 -0.125626     1.000000    0.043287   \n",
      "Humidity_%                  -0.170105     0.043287    1.000000   \n",
      "Yield_TonnesPerHectare       0.135960    -0.034130   -0.064705   \n",
      "\n",
      "                        Yield_TonnesPerHectare  \n",
      "Temperature_C                         0.135960  \n",
      "Rainfall_mm                          -0.034130  \n",
      "Humidity_%                           -0.064705  \n",
      "Yield_TonnesPerHectare                1.000000  \n"
     ]
    }
   ],
   "source": [
    "#Correlation between weather parameters and yeild\n",
    "corr=df[['Temperature_C','Rainfall_mm','Humidity_%','Yield_TonnesPerHectare']].corr()\n",
    "print(corr)"
   ]
  },
  {
   "cell_type": "markdown",
   "id": "d21432bd-6ee5-443b-bc49-14107ab536f2",
   "metadata": {},
   "source": [
    "From both the scatter plots and the correlation analysis, it is evident that the relationships between key weather variables (temperature, rainfall, humidity) and crop yield in this dataset are weak:\n",
    "\n",
    "The correlation between temperature and yield is approximately +0.136, indicating a very weak positive association.\n",
    "\n",
    "The correlation between rainfall and yield is about -0.034, and between humidity and yield is -0.065—both of which are close to zero and imply virtually no meaningful linear relationship.\n",
    "\n",
    "These low correlation values quantitatively confirm what was observed visually: crop yield in this dataset does not show significant dependence on any single weather parameter in a linear way."
   ]
  },
  {
   "cell_type": "code",
   "execution_count": null,
   "id": "def2a620-ffcc-4fa4-a233-8807132e2e63",
   "metadata": {},
   "outputs": [],
   "source": []
  }
 ],
 "metadata": {
  "kernelspec": {
   "display_name": "Python [conda env:base] *",
   "language": "python",
   "name": "conda-base-py"
  },
  "language_info": {
   "codemirror_mode": {
    "name": "ipython",
    "version": 3
   },
   "file_extension": ".py",
   "mimetype": "text/x-python",
   "name": "python",
   "nbconvert_exporter": "python",
   "pygments_lexer": "ipython3",
   "version": "3.13.5"
  }
 },
 "nbformat": 4,
 "nbformat_minor": 5
}
